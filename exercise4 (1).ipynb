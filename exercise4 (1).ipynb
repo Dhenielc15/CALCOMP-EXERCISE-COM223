{
  "cells": [
    {
      "cell_type": "markdown",
      "metadata": {
        "id": "cPRRjBOhHHMh"
      },
      "source": [
        "# Exercise 4\n",
        "\n",
        "Please follow the instructions in each number."
      ]
    },
    {
      "cell_type": "markdown",
      "metadata": {
        "id": "zvDTNWRFHHMk"
      },
      "source": [
        "### Activity Selection Problem\n",
        "\n",
        "Given a set of activities, along with the starting and finishing time of each activity, find the maximum number of activities performed by a single person assuming that a person can only work on a single activity at a time.\n",
        "\n",
        "For example,\n",
        "\n",
        "Input: Following set of activities (1, 4), (3, 5), (0, 6), (5, 7), (3, 8), (5, 9), (6, 10), (8, 11), (8, 12), (2, 13), (12, 14)  \n",
        "\n",
        "Output: (1, 4), (5, 7), (8, 11), (12, 14)"
      ]
    },
    {
      "cell_type": "markdown",
      "metadata": {
        "id": "ff7w7YLGHHMl"
      },
      "source": [
        "## Tasks"
      ]
    },
    {
      "cell_type": "markdown",
      "metadata": {
        "id": "0QLHdoNSHHMl"
      },
      "source": [
        "1. Write a program using a recursive greedy approach to get the maximum number of activities (`50 points`)"
      ]
    },
    {
      "cell_type": "code",
      "execution_count": 1,
      "metadata": {
        "vscode": {
          "languageId": "plaintext"
        },
        "id": "Xe02cHvAHHMl",
        "outputId": "0e72f16f-ebe2-45f5-e4f1-417b274753d4",
        "colab": {
          "base_uri": "https://localhost:8080/"
        }
      },
      "outputs": [
        {
          "output_type": "stream",
          "name": "stdout",
          "text": [
            "Selected activities: [(1, 4), (5, 7), (8, 11), (12, 14)]\n"
          ]
        }
      ],
      "source": [
        "def max_activities(activities, selected_activities=[], index=0):\n",
        "    # Base case: no more activities to select\n",
        "    if index >= len(activities):\n",
        "        return selected_activities\n",
        "\n",
        "    # Choose the current activity\n",
        "    current_activity = activities[index]\n",
        "    selected_activities.append(current_activity)\n",
        "\n",
        "    # Find the next activity that starts after the current one finishes\n",
        "    next_index = index + 1\n",
        "    while next_index < len(activities) and activities[next_index][0] < current_activity[1]:\n",
        "        next_index += 1\n",
        "\n",
        "    # Recursively select the next activity\n",
        "    return max_activities(activities, selected_activities, next_index)\n",
        "\n",
        "# Function to find the maximum number of activities that can be performed\n",
        "def find_max_activities(activities):\n",
        "    # Sort activities based on finishing times\n",
        "    activities.sort(key=lambda x: x[1])\n",
        "\n",
        "    # Start the recursive selection process\n",
        "    selected_activities = max_activities(activities)\n",
        "\n",
        "    return selected_activities\n",
        "\n",
        "# Example usage\n",
        "activities = [(1, 4), (3, 5), (0, 6), (5, 7), (3, 8), (5, 9), (6, 10), (8, 11), (8, 12), (2, 13), (12, 14)]\n",
        "selected_activities = find_max_activities(activities)\n",
        "print(\"Selected activities:\", selected_activities)\n"
      ]
    },
    {
      "cell_type": "markdown",
      "metadata": {
        "id": "eZe27u4LHHMn"
      },
      "source": [
        "2. Write a program using a iterative greedy approach to get the maximun number of activities (`50 points`)"
      ]
    },
    {
      "cell_type": "code",
      "execution_count": 2,
      "metadata": {
        "vscode": {
          "languageId": "plaintext"
        },
        "id": "UrSZyQwEHHMn",
        "outputId": "a6930019-a2c8-488a-cae6-ce4c76c1ff8a",
        "colab": {
          "base_uri": "https://localhost:8080/"
        }
      },
      "outputs": [
        {
          "output_type": "stream",
          "name": "stdout",
          "text": [
            "Selected activities: [(1, 4), (5, 7), (8, 11), (12, 14)]\n"
          ]
        }
      ],
      "source": [
        "def find_max_activities(activities):\n",
        "    # Sort activities based on finishing times\n",
        "    activities.sort(key=lambda x: x[1])\n",
        "\n",
        "    # List to store selected activities\n",
        "    selected_activities = []\n",
        "\n",
        "    # The first activity always gets selected\n",
        "    selected_activities.append(activities[0])\n",
        "    last_finish_time = activities[0][1]\n",
        "\n",
        "    # Iterate through the remaining activities\n",
        "    for i in range(1, len(activities)):\n",
        "        # If the start time of this activity is greater than or equal to the\n",
        "        # finish time of the last selected activity, then select this activity\n",
        "        if activities[i][0] >= last_finish_time:\n",
        "            selected_activities.append(activities[i])\n",
        "            last_finish_time = activities[i][1]\n",
        "\n",
        "    return selected_activities\n",
        "\n",
        "# Example usage\n",
        "activities = [(1, 4), (3, 5), (0, 6), (5, 7), (3, 8), (5, 9), (6, 10), (8, 11), (8, 12), (2, 13), (12, 14)]\n",
        "selected_activities = find_max_activities(activities)\n",
        "print(\"Selected activities:\", selected_activities)\n"
      ]
    }
  ],
  "metadata": {
    "colab": {
      "provenance": []
    },
    "kernelspec": {
      "display_name": "base",
      "language": "python",
      "name": "python3"
    },
    "language_info": {
      "codemirror_mode": {
        "name": "ipython",
        "version": 3
      },
      "file_extension": ".py",
      "mimetype": "text/x-python",
      "name": "python",
      "nbconvert_exporter": "python",
      "pygments_lexer": "ipython3",
      "version": "3.9.6"
    }
  },
  "nbformat": 4,
  "nbformat_minor": 0
}
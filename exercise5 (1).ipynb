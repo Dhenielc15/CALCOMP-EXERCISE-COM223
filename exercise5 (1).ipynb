{
  "cells": [
    {
      "cell_type": "markdown",
      "metadata": {
        "id": "-8bYOEC8HOQ4"
      },
      "source": [
        "# Exercise 5\n",
        "\n",
        "Please follow the instructions in each number."
      ]
    },
    {
      "cell_type": "markdown",
      "metadata": {
        "id": "FEPXLUAPHOQ6"
      },
      "source": [
        "### Maximum Subarray\n",
        "Given an array of integers nums, find the subarray with the largest sum and return the sum.\n",
        "\n",
        "A subarray is a contiguous non-empty sequence of elements within an array.\n",
        "\n",
        "\n",
        "\n",
        "Example 1:\n",
        "\n",
        "Input: nums = [2,-3,4,-2,2,1,-1,4]\n",
        "\n",
        "Output: 8\n",
        "\n",
        "Explanation: The subarray [4,-2,2,1,-1,4] has the largest sum 8."
      ]
    },
    {
      "cell_type": "markdown",
      "metadata": {
        "id": "D4a-4yS4HOQ7"
      },
      "source": [
        "## Tasks"
      ]
    },
    {
      "cell_type": "markdown",
      "metadata": {
        "id": "v8mlE6kYHOQ7"
      },
      "source": [
        "1. Put your student number in a list and manually compute the maximum subarray in your student number (`10 points`)"
      ]
    },
    {
      "cell_type": "code",
      "execution_count": 1,
      "metadata": {
        "vscode": {
          "languageId": "plaintext"
        },
        "id": "YJMIVpuTHOQ8",
        "colab": {
          "base_uri": "https://localhost:8080/"
        },
        "outputId": "5e64a7df-17ac-41ed-aecc-fdcb06d45939"
      },
      "outputs": [
        {
          "output_type": "stream",
          "name": "stdout",
          "text": [
            "The maximum subarray sum is: 8\n"
          ]
        }
      ],
      "source": [
        "def max_subarray(nums):\n",
        "    max_current = max_global = nums[0]\n",
        "\n",
        "    for num in nums[1:]:\n",
        "        max_current = max(num, max_current + num)\n",
        "        if max_current > max_global:\n",
        "            max_global = max_current\n",
        "\n",
        "    return max_global\n",
        "\n",
        "# Example\n",
        "nums = [2, -3, 4, -2, 2, 1, -1, 4]\n",
        "print(f\"The maximum subarray sum is: {max_subarray(nums)}\")\n"
      ]
    },
    {
      "cell_type": "markdown",
      "metadata": {
        "id": "nchQgI2KHOQ8"
      },
      "source": [
        "2. Write a program using a brute-force approach to get the maximum-subarray of your student number (`40 points`)"
      ]
    },
    {
      "cell_type": "code",
      "execution_count": 2,
      "metadata": {
        "vscode": {
          "languageId": "plaintext"
        },
        "id": "b9P6oe11HOQ9",
        "colab": {
          "base_uri": "https://localhost:8080/"
        },
        "outputId": "21b09c29-e8c9-4c23-931a-8f25e2fcd2b0"
      },
      "outputs": [
        {
          "output_type": "stream",
          "name": "stdout",
          "text": [
            "The maximum subarray sum is: 21\n",
            "The maximum subarray is: [1, 2, 3, 4, 5, 6]\n"
          ]
        }
      ],
      "source": [
        "def max_subarray_brute_force(nums):\n",
        "    max_sum = float('-inf')\n",
        "    start_index = end_index = 0\n",
        "\n",
        "    for i in range(len(nums)):\n",
        "        for j in range(i, len(nums)):\n",
        "            current_sum = sum(nums[i:j+1])\n",
        "            if current_sum > max_sum:\n",
        "                max_sum = current_sum\n",
        "                start_index = i\n",
        "                end_index = j\n",
        "\n",
        "    return max_sum, nums[start_index:end_index+1]\n",
        "\n",
        "# Example student number converted to a list of digits\n",
        "student_number = [1, 2, 3, 4, 5, 6]\n",
        "\n",
        "max_sum, max_subarray = max_subarray_brute_force(student_number)\n",
        "print(f\"The maximum subarray sum is: {max_sum}\")\n",
        "print(f\"The maximum subarray is: {max_subarray}\")\n"
      ]
    },
    {
      "cell_type": "markdown",
      "metadata": {
        "id": "NkqAxIx_HOQ9"
      },
      "source": [
        "3. Write a program using a dynamic programming to get the maximum-subarray of your student number (`50 points`)"
      ]
    },
    {
      "cell_type": "code",
      "execution_count": 4,
      "metadata": {
        "vscode": {
          "languageId": "plaintext"
        },
        "id": "BFBp2ARLHOQ9",
        "colab": {
          "base_uri": "https://localhost:8080/"
        },
        "outputId": "97aa9923-a0ab-44b4-eb39-d2c3a6361bbd"
      },
      "outputs": [
        {
          "output_type": "stream",
          "name": "stdout",
          "text": [
            "The maximum subarray sum is: 21\n",
            "The maximum subarray is: [1, 2, 3, 4, 5, 6]\n"
          ]
        }
      ],
      "source": [
        "def max_subarray_dynamic(nums):\n",
        "    # Initialize variables\n",
        "    max_current = max_global = nums[0]\n",
        "    start_index = end_index = 0\n",
        "    temp_start_index = 0\n",
        "\n",
        "    for i in range(1, len(nums)):\n",
        "        if nums[i] > max_current + nums[i]:\n",
        "            max_current = nums[i]\n",
        "            temp_start_index = i\n",
        "        else:\n",
        "            max_current += nums[i]\n",
        "\n",
        "        if max_current > max_global:\n",
        "            max_global = max_current\n",
        "            start_index = temp_start_index\n",
        "            end_index = i\n",
        "\n",
        "    return max_global, nums[start_index:end_index+1]\n",
        "\n",
        "# Example student number converted to a list of digits\n",
        "student_number = [1, 2, 3, 4, 5, 6]\n",
        "\n",
        "max_sum, max_subarray = max_subarray_dynamic(student_number)\n",
        "print(f\"The maximum subarray sum is: {max_sum}\")\n",
        "print(f\"The maximum subarray is: {max_subarray}\")\n"
      ]
    }
  ],
  "metadata": {
    "colab": {
      "provenance": []
    },
    "kernelspec": {
      "display_name": "base",
      "language": "python",
      "name": "python3"
    },
    "language_info": {
      "codemirror_mode": {
        "name": "ipython",
        "version": 3
      },
      "file_extension": ".py",
      "mimetype": "text/x-python",
      "name": "python",
      "nbconvert_exporter": "python",
      "pygments_lexer": "ipython3",
      "version": "3.9.6"
    }
  },
  "nbformat": 4,
  "nbformat_minor": 0
}